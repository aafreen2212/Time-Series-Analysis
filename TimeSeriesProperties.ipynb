{
  "nbformat": 4,
  "nbformat_minor": 0,
  "metadata": {
    "colab": {
      "name": "DS3_M1_D018.ipynb",
      "provenance": [],
      "collapsed_sections": [],
      "authorship_tag": "ABX9TyN+J0CD0IRm30UCO33ZjJyh"
    },
    "kernelspec": {
      "name": "python3",
      "display_name": "Python 3"
    }
  },
  "cells": [
    {
      "cell_type": "markdown",
      "metadata": {
        "id": "fTPskahGnosG"
      },
      "source": [
        "**Question 1**\n"
      ]
    },
    {
      "cell_type": "markdown",
      "metadata": {
        "id": "1liGfs7yn_OI"
      },
      "source": [
        "(a) Simple moving average: The moving average (MA) is a simple technical analysis tool that smooths out data by creating a constantly updated average data. Moving averages smooth the given data by creating a constantly updated average price over a specified period of time. The two most popular types of moving averages are the Simple Moving Average (SMA) and the Exponential Moving Average (EMA). Here we are considering simple moving average (SMA).By calculating the moving average, the impacts of random, short-term fluctuations on the data for e.g. price of a stock over a specified time-frame are mitigated."
      ]
    },
    {
      "cell_type": "code",
      "metadata": {
        "id": "3ZcNdetqob6A",
        "colab": {
          "base_uri": "https://localhost:8080/",
          "height": 71
        },
        "outputId": "9592d445-065a-427c-ba89-b302967e3655"
      },
      "source": [
        "import pandas as pd\n",
        "import numpy as np\n",
        "import matplotlib.pyplot as plt\n",
        "import statsmodels.api as sm\n",
        "%matplotlib inline\n",
        "from matplotlib.pyplot import figure"
      ],
      "execution_count": null,
      "outputs": [
        {
          "output_type": "stream",
          "text": [
            "/usr/local/lib/python3.6/dist-packages/statsmodels/tools/_testing.py:19: FutureWarning: pandas.util.testing is deprecated. Use the functions in the public API at pandas.testing instead.\n",
            "  import pandas.util.testing as tm\n"
          ],
          "name": "stderr"
        }
      ]
    },
    {
      "cell_type": "code",
      "metadata": {
        "id": "n0VbtCk7ojmn",
        "colab": {
          "base_uri": "https://localhost:8080/",
          "height": 204
        },
        "outputId": "d72b2006-5be7-4b47-8381-2dca07c5dffb"
      },
      "source": [
        "#Read the data\n",
        "rain_data = pd.read_csv('/content/data-DS.csv')\n",
        "rain_data.head()"
      ],
      "execution_count": null,
      "outputs": [
        {
          "output_type": "execute_result",
          "data": {
            "text/html": [
              "<div>\n",
              "<style scoped>\n",
              "    .dataframe tbody tr th:only-of-type {\n",
              "        vertical-align: middle;\n",
              "    }\n",
              "\n",
              "    .dataframe tbody tr th {\n",
              "        vertical-align: top;\n",
              "    }\n",
              "\n",
              "    .dataframe thead th {\n",
              "        text-align: right;\n",
              "    }\n",
              "</style>\n",
              "<table border=\"1\" class=\"dataframe\">\n",
              "  <thead>\n",
              "    <tr style=\"text-align: right;\">\n",
              "      <th></th>\n",
              "      <th>year</th>\n",
              "      <th>rain</th>\n",
              "    </tr>\n",
              "  </thead>\n",
              "  <tbody>\n",
              "    <tr>\n",
              "      <th>0</th>\n",
              "      <td>1907</td>\n",
              "      <td>269</td>\n",
              "    </tr>\n",
              "    <tr>\n",
              "      <th>1</th>\n",
              "      <td>1908</td>\n",
              "      <td>321</td>\n",
              "    </tr>\n",
              "    <tr>\n",
              "      <th>2</th>\n",
              "      <td>1909</td>\n",
              "      <td>585</td>\n",
              "    </tr>\n",
              "    <tr>\n",
              "      <th>3</th>\n",
              "      <td>1910</td>\n",
              "      <td>871</td>\n",
              "    </tr>\n",
              "    <tr>\n",
              "      <th>4</th>\n",
              "      <td>1911</td>\n",
              "      <td>1475</td>\n",
              "    </tr>\n",
              "  </tbody>\n",
              "</table>\n",
              "</div>"
            ],
            "text/plain": [
              "   year  rain\n",
              "0  1907   269\n",
              "1  1908   321\n",
              "2  1909   585\n",
              "3  1910   871\n",
              "4  1911  1475"
            ]
          },
          "metadata": {
            "tags": []
          },
          "execution_count": 7
        }
      ]
    },
    {
      "cell_type": "code",
      "metadata": {
        "id": "jW_U8W7upV4j",
        "colab": {
          "base_uri": "https://localhost:8080/",
          "height": 34
        },
        "outputId": "b54aad09-3904-4d70-a2d6-b20e78434b28"
      },
      "source": [
        "#check the length of the data\n",
        "len(rain_data)"
      ],
      "execution_count": null,
      "outputs": [
        {
          "output_type": "execute_result",
          "data": {
            "text/plain": [
              "114"
            ]
          },
          "metadata": {
            "tags": []
          },
          "execution_count": 8
        }
      ]
    },
    {
      "cell_type": "code",
      "metadata": {
        "id": "GSA1mKvbpnxp",
        "colab": {
          "base_uri": "https://localhost:8080/",
          "height": 68
        },
        "outputId": "1fcca168-215a-4640-9db0-aa8cf186ad10"
      },
      "source": [
        "#check for null values\n",
        "rain_data.isnull().sum()"
      ],
      "execution_count": null,
      "outputs": [
        {
          "output_type": "execute_result",
          "data": {
            "text/plain": [
              "year    0\n",
              "rain    0\n",
              "dtype: int64"
            ]
          },
          "metadata": {
            "tags": []
          },
          "execution_count": 10
        }
      ]
    },
    {
      "cell_type": "code",
      "metadata": {
        "id": "mQ37wjG4pL32"
      },
      "source": [
        "#Convert the data into a time series format\n",
        "raindata_ts = pd.read_csv('/content/data-DS.csv', na_values = ['null'], index_col = 'year', parse_dates=True, infer_datetime_format=True)\n"
      ],
      "execution_count": null,
      "outputs": []
    },
    {
      "cell_type": "code",
      "metadata": {
        "id": "ZXBYcfQQqd9O",
        "colab": {
          "base_uri": "https://localhost:8080/",
          "height": 235
        },
        "outputId": "8fb729ce-8d2d-47e1-d12b-2171fbe3ccf5"
      },
      "source": [
        "raindata_ts.head()"
      ],
      "execution_count": null,
      "outputs": [
        {
          "output_type": "execute_result",
          "data": {
            "text/html": [
              "<div>\n",
              "<style scoped>\n",
              "    .dataframe tbody tr th:only-of-type {\n",
              "        vertical-align: middle;\n",
              "    }\n",
              "\n",
              "    .dataframe tbody tr th {\n",
              "        vertical-align: top;\n",
              "    }\n",
              "\n",
              "    .dataframe thead th {\n",
              "        text-align: right;\n",
              "    }\n",
              "</style>\n",
              "<table border=\"1\" class=\"dataframe\">\n",
              "  <thead>\n",
              "    <tr style=\"text-align: right;\">\n",
              "      <th></th>\n",
              "      <th>rain</th>\n",
              "    </tr>\n",
              "    <tr>\n",
              "      <th>year</th>\n",
              "      <th></th>\n",
              "    </tr>\n",
              "  </thead>\n",
              "  <tbody>\n",
              "    <tr>\n",
              "      <th>1907-01-01</th>\n",
              "      <td>269</td>\n",
              "    </tr>\n",
              "    <tr>\n",
              "      <th>1908-01-01</th>\n",
              "      <td>321</td>\n",
              "    </tr>\n",
              "    <tr>\n",
              "      <th>1909-01-01</th>\n",
              "      <td>585</td>\n",
              "    </tr>\n",
              "    <tr>\n",
              "      <th>1910-01-01</th>\n",
              "      <td>871</td>\n",
              "    </tr>\n",
              "    <tr>\n",
              "      <th>1911-01-01</th>\n",
              "      <td>1475</td>\n",
              "    </tr>\n",
              "  </tbody>\n",
              "</table>\n",
              "</div>"
            ],
            "text/plain": [
              "            rain\n",
              "year            \n",
              "1907-01-01   269\n",
              "1908-01-01   321\n",
              "1909-01-01   585\n",
              "1910-01-01   871\n",
              "1911-01-01  1475"
            ]
          },
          "metadata": {
            "tags": []
          },
          "execution_count": 13
        }
      ]
    },
    {
      "cell_type": "code",
      "metadata": {
        "id": "xfHDOrJDqhEd"
      },
      "source": [
        "#rolling sd and simple moving average\n",
        "def plot_rolling(timeseries, window):\n",
        "  rol_mean = timeseries.rolling(window).mean()\n",
        "  rol_std = timeseries.rolling(window).std()\n",
        "\n",
        "  fig = plt.figure(figsize=(12,4))\n",
        "  og = plt.plot(timeseries, color='blue', label='Original')\n",
        "  mean = plt.plot(rol_mean, color='red', label='Rolling mean')\n",
        "  std = plt.plot(rol_std, color='black', label = 'Rolling S.D.')\n",
        "  plt.legend(loc = 'best')\n",
        "  plt.title(\"Moving Average and S.D. (Window = {}) for the Rain Data\".format(window))\n",
        "  plt.show()"
      ],
      "execution_count": null,
      "outputs": []
    },
    {
      "cell_type": "code",
      "metadata": {
        "id": "z_lmMUhOqqco",
        "colab": {
          "base_uri": "https://localhost:8080/",
          "height": 281
        },
        "outputId": "bb879bb6-2c9d-4a75-e01d-54adf6762642"
      },
      "source": [
        "plot_rolling(raindata_ts, 4)"
      ],
      "execution_count": null,
      "outputs": [
        {
          "output_type": "display_data",
          "data": {
            "image/png": "[encoded data removed]",
            "text/plain": [
              "<Figure size 864x288 with 1 Axes>"
            ]
          },
          "metadata": {
            "tags": [],
            "needs_background": "light"
          }
        }
      ]
    },
    {
      "cell_type": "code",
      "metadata": {
        "id": "OVjM_C2zzVM9",
        "colab": {
          "base_uri": "https://localhost:8080/",
          "height": 281
        },
        "outputId": "32496a2d-1a8e-494c-8bda-7a7c13754175"
      },
      "source": [
        "plot_rolling(raindata_ts, 7)"
      ],
      "execution_count": null,
      "outputs": [
        {
          "output_type": "display_data",
          "data": {
            "image/png": "[encoded data removed]",
            "text/plain": [
              "<Figure size 864x288 with 1 Axes>"
            ]
          },
          "metadata": {
            "tags": [],
            "needs_background": "light"
          }
        }
      ]
    },
    {
      "cell_type": "markdown",
      "metadata": {
        "id": "FLRQRwaOy5Us"
      },
      "source": [
        "As the rolling window increases, the curve becomes more sharp and deviates more from the actual value. However, when the rolling window decreases the rolling mean and standard deviation fits more to the actual data."
      ]
    },
    {
      "cell_type": "markdown",
      "metadata": {
        "id": "tP1n_IJMrXoZ"
      },
      "source": [
        "(b) Seasonal Decomposition"
      ]
    },
    {
      "cell_type": "code",
      "metadata": {
        "id": "TlmRHwVerGoy",
        "colab": {
          "base_uri": "https://localhost:8080/",
          "height": 298
        },
        "outputId": "8cb43784-05fd-4ded-dd10-aa1e980b615a"
      },
      "source": [
        "from statsmodels.tsa.seasonal import seasonal_decompose\n",
        "decom_ts = seasonal_decompose(raindata_ts)\n",
        "decom_plot = decom_ts.plot()"
      ],
      "execution_count": null,
      "outputs": [
        {
          "output_type": "display_data",
          "data": {
            "image/png": "[encoded data removed]",
            "text/plain": [
              "<Figure size 432x288 with 4 Axes>"
            ]
          },
          "metadata": {
            "tags": [],
            "needs_background": "light"
          }
        }
      ]
    },
    {
      "cell_type": "markdown",
      "metadata": {
        "id": "oEIK1wj8z7j1"
      },
      "source": [
        "The time series consists of three components: Trend, seasonality and error or random components. The trend is the component of a time series that represents variations of low frequency in a time series, the high and medium frequency fluctuations having been filtered out. Seasonality is the presence of variations that occur at specific regular intervals less than a year, such as weekly, monthly, or quarterly. The error component is highly random in nature and is quite difficult to predict."
      ]
    },
    {
      "cell_type": "markdown",
      "metadata": {
        "id": "Ndv-7z2I9-gb"
      },
      "source": [
        "(c) Calculate the mean and standard deviation of trend series, and seasonal series"
      ]
    },
    {
      "cell_type": "code",
      "metadata": {
        "id": "zUSQz-zNtcPI",
        "colab": {
          "base_uri": "https://localhost:8080/",
          "height": 153
        },
        "outputId": "2c7d830f-455f-4b69-ec0b-40fab282faf5"
      },
      "source": [
        "print('Mean of trend series:', decom_ts.trend.mean())\n",
        "print('Standard deviation of trend series:', decom_ts.trend.std())\n",
        "print('Mean of seasonal series:', decom_ts.seasonal.mean())\n",
        "print('Standard deviation of seasonal series:', decom_ts.seasonal.std())"
      ],
      "execution_count": null,
      "outputs": [
        {
          "output_type": "stream",
          "text": [
            "Mean of trend series: rain    1538.017544\n",
            "dtype: float64\n",
            "Standard deviation of trend series: rain    1585.843914\n",
            "dtype: float64\n",
            "Mean of seasonal series: rain    1.0\n",
            "dtype: float64\n",
            "Standard deviation of seasonal series: rain    0.0\n",
            "dtype: float64\n"
          ],
          "name": "stdout"
        }
      ]
    },
    {
      "cell_type": "markdown",
      "metadata": {
        "id": "gYRA-Jpvx3IO"
      },
      "source": [
        "(d) Generate a de-seasonal series and plot it separately."
      ]
    },
    {
      "cell_type": "code",
      "metadata": {
        "id": "ZOgAcHHHwqcv",
        "colab": {
          "base_uri": "https://localhost:8080/",
          "height": 309
        },
        "outputId": "7d4e2c92-417c-47c8-bf7b-581987da856e"
      },
      "source": [
        "!pip install stldecompose"
      ],
      "execution_count": null,
      "outputs": [
        {
          "output_type": "stream",
          "text": [
            "Collecting stldecompose\n",
            "  Downloading https://files.pythonhosted.org/packages/7f/0f/cc3cf33ae4ec1ffc83a2951dc37b5cdb49f9166c0e1de1a61e11b6d954fe/stldecompose-0.0.5-py2.py3-none-any.whl\n",
            "Requirement already satisfied: statsmodels in /usr/local/lib/python3.6/dist-packages (from stldecompose) (0.10.2)\n",
            "Requirement already satisfied: pandas in /usr/local/lib/python3.6/dist-packages (from stldecompose) (1.0.5)\n",
            "Requirement already satisfied: numpy in /usr/local/lib/python3.6/dist-packages (from stldecompose) (1.18.5)\n",
            "Requirement already satisfied: matplotlib in /usr/local/lib/python3.6/dist-packages (from stldecompose) (3.2.2)\n",
            "Requirement already satisfied: scipy in /usr/local/lib/python3.6/dist-packages (from stldecompose) (1.4.1)\n",
            "Requirement already satisfied: patsy>=0.4.0 in /usr/local/lib/python3.6/dist-packages (from statsmodels->stldecompose) (0.5.1)\n",
            "Requirement already satisfied: python-dateutil>=2.6.1 in /usr/local/lib/python3.6/dist-packages (from pandas->stldecompose) (2.8.1)\n",
            "Requirement already satisfied: pytz>=2017.2 in /usr/local/lib/python3.6/dist-packages (from pandas->stldecompose) (2018.9)\n",
            "Requirement already satisfied: cycler>=0.10 in /usr/local/lib/python3.6/dist-packages (from matplotlib->stldecompose) (0.10.0)\n",
            "Requirement already satisfied: kiwisolver>=1.0.1 in /usr/local/lib/python3.6/dist-packages (from matplotlib->stldecompose) (1.2.0)\n",
            "Requirement already satisfied: pyparsing!=2.0.4,!=2.1.2,!=2.1.6,>=2.0.1 in /usr/local/lib/python3.6/dist-packages (from matplotlib->stldecompose) (2.4.7)\n",
            "Requirement already satisfied: six in /usr/local/lib/python3.6/dist-packages (from patsy>=0.4.0->statsmodels->stldecompose) (1.15.0)\n",
            "Installing collected packages: stldecompose\n",
            "Successfully installed stldecompose-0.0.5\n"
          ],
          "name": "stdout"
        }
      ]
    },
    {
      "cell_type": "code",
      "metadata": {
        "id": "0mgGobtUwK4D"
      },
      "source": [
        "from stldecompose import decompose"
      ],
      "execution_count": null,
      "outputs": []
    },
    {
      "cell_type": "code",
      "metadata": {
        "id": "vWVBNZtVuYMC",
        "colab": {
          "base_uri": "https://localhost:8080/",
          "height": 235
        },
        "outputId": "74d22faf-f53e-4d7d-8729-8135d747681e"
      },
      "source": [
        "\n",
        "ts_stl = decompose(raindata_ts, period=12)\n",
        "ts_stl.seasonal.head()"
      ],
      "execution_count": null,
      "outputs": [
        {
          "output_type": "execute_result",
          "data": {
            "text/html": [
              "<div>\n",
              "<style scoped>\n",
              "    .dataframe tbody tr th:only-of-type {\n",
              "        vertical-align: middle;\n",
              "    }\n",
              "\n",
              "    .dataframe tbody tr th {\n",
              "        vertical-align: top;\n",
              "    }\n",
              "\n",
              "    .dataframe thead th {\n",
              "        text-align: right;\n",
              "    }\n",
              "</style>\n",
              "<table border=\"1\" class=\"dataframe\">\n",
              "  <thead>\n",
              "    <tr style=\"text-align: right;\">\n",
              "      <th></th>\n",
              "      <th>rain</th>\n",
              "    </tr>\n",
              "    <tr>\n",
              "      <th>year</th>\n",
              "      <th></th>\n",
              "    </tr>\n",
              "  </thead>\n",
              "  <tbody>\n",
              "    <tr>\n",
              "      <th>1907-01-01</th>\n",
              "      <td>-306.546913</td>\n",
              "    </tr>\n",
              "    <tr>\n",
              "      <th>1908-01-01</th>\n",
              "      <td>-475.379815</td>\n",
              "    </tr>\n",
              "    <tr>\n",
              "      <th>1909-01-01</th>\n",
              "      <td>-242.738980</td>\n",
              "    </tr>\n",
              "    <tr>\n",
              "      <th>1910-01-01</th>\n",
              "      <td>-49.699302</td>\n",
              "    </tr>\n",
              "    <tr>\n",
              "      <th>1911-01-01</th>\n",
              "      <td>-42.910466</td>\n",
              "    </tr>\n",
              "  </tbody>\n",
              "</table>\n",
              "</div>"
            ],
            "text/plain": [
              "                  rain\n",
              "year                  \n",
              "1907-01-01 -306.546913\n",
              "1908-01-01 -475.379815\n",
              "1909-01-01 -242.738980\n",
              "1910-01-01  -49.699302\n",
              "1911-01-01  -42.910466"
            ]
          },
          "metadata": {
            "tags": []
          },
          "execution_count": 31
        }
      ]
    },
    {
      "cell_type": "code",
      "metadata": {
        "id": "yk9-NTadvkGO",
        "colab": {
          "base_uri": "https://localhost:8080/",
          "height": 329
        },
        "outputId": "3f7b8073-5c6b-48c4-cb17-738f46cdf6e5"
      },
      "source": [
        "without_seasonal = raindata_ts- ts_stl.seasonal\n",
        "without_seasonal.plot()\n",
        "plt.title('Time series without seasonal component')\n",
        "plt.figure(figsize=(12,6))\n"
      ],
      "execution_count": null,
      "outputs": [
        {
          "output_type": "execute_result",
          "data": {
            "text/plain": [
              "<Figure size 864x432 with 0 Axes>"
            ]
          },
          "metadata": {
            "tags": []
          },
          "execution_count": 45
        },
        {
          "output_type": "display_data",
          "data": {
            "image/png": "[encoded data removed]",
            "text/plain": [
              "<Figure size 432x288 with 1 Axes>"
            ]
          },
          "metadata": {
            "tags": [],
            "needs_background": "light"
          }
        },
        {
          "output_type": "display_data",
          "data": {
            "text/plain": [
              "<Figure size 864x432 with 0 Axes>"
            ]
          },
          "metadata": {
            "tags": []
          }
        }
      ]
    },
    {
      "cell_type": "markdown",
      "metadata": {
        "id": "YfVL0Ncc33dP"
      },
      "source": [
        "The plot without seasonality element consists of only trend and error terms. A clear trend has not been observed in the observed plot."
      ]
    },
    {
      "cell_type": "markdown",
      "metadata": {
        "id": "CbuK131UyLvE"
      },
      "source": [
        "(e) Forecast the future values"
      ]
    },
    {
      "cell_type": "code",
      "metadata": {
        "id": "KlPqeo7ExxI-"
      },
      "source": [
        "from stldecompose import decompose, forecast\n",
        "from stldecompose.forecast_funcs import (naive, drift, mean, seasonal_naive)\n",
        "ts_stl = decompose(raindata_ts, period=12)\n",
        "ts_f = forecast(ts_stl, steps = 15, fc_func = seasonal_naive, seasonal=True)"
      ],
      "execution_count": null,
      "outputs": []
    },
    {
      "cell_type": "code",
      "metadata": {
        "id": "eGvQYr03ygy3",
        "colab": {
          "base_uri": "https://localhost:8080/",
          "height": 514
        },
        "outputId": "1aa32e84-e96b-4f87-90bc-fd2a77dbcec7"
      },
      "source": [
        "ts_f"
      ],
      "execution_count": null,
      "outputs": [
        {
          "output_type": "execute_result",
          "data": {
            "text/html": [
              "<div>\n",
              "<style scoped>\n",
              "    .dataframe tbody tr th:only-of-type {\n",
              "        vertical-align: middle;\n",
              "    }\n",
              "\n",
              "    .dataframe tbody tr th {\n",
              "        vertical-align: top;\n",
              "    }\n",
              "\n",
              "    .dataframe thead th {\n",
              "        text-align: right;\n",
              "    }\n",
              "</style>\n",
              "<table border=\"1\" class=\"dataframe\">\n",
              "  <thead>\n",
              "    <tr style=\"text-align: right;\">\n",
              "      <th></th>\n",
              "      <th>seasonal_naive+seasonal</th>\n",
              "    </tr>\n",
              "  </thead>\n",
              "  <tbody>\n",
              "    <tr>\n",
              "      <th>2020-12-31</th>\n",
              "      <td>1478.126597</td>\n",
              "    </tr>\n",
              "    <tr>\n",
              "      <th>2021-12-31</th>\n",
              "      <td>1846.742382</td>\n",
              "    </tr>\n",
              "    <tr>\n",
              "      <th>2022-12-31</th>\n",
              "      <td>2129.755974</td>\n",
              "    </tr>\n",
              "    <tr>\n",
              "      <th>2023-12-31</th>\n",
              "      <td>2144.873181</td>\n",
              "    </tr>\n",
              "    <tr>\n",
              "      <th>2024-12-30</th>\n",
              "      <td>1816.821699</td>\n",
              "    </tr>\n",
              "    <tr>\n",
              "      <th>2025-12-30</th>\n",
              "      <td>1904.504733</td>\n",
              "    </tr>\n",
              "    <tr>\n",
              "      <th>2026-12-30</th>\n",
              "      <td>1436.325423</td>\n",
              "    </tr>\n",
              "    <tr>\n",
              "      <th>2027-12-30</th>\n",
              "      <td>1195.161978</td>\n",
              "    </tr>\n",
              "    <tr>\n",
              "      <th>2028-12-29</th>\n",
              "      <td>1440.204743</td>\n",
              "    </tr>\n",
              "    <tr>\n",
              "      <th>2029-12-29</th>\n",
              "      <td>1645.479854</td>\n",
              "    </tr>\n",
              "    <tr>\n",
              "      <th>2030-12-29</th>\n",
              "      <td>1664.352893</td>\n",
              "    </tr>\n",
              "    <tr>\n",
              "      <th>2031-12-29</th>\n",
              "      <td>1721.900227</td>\n",
              "    </tr>\n",
              "    <tr>\n",
              "      <th>2032-12-28</th>\n",
              "      <td>1538.665136</td>\n",
              "    </tr>\n",
              "    <tr>\n",
              "      <th>2033-12-28</th>\n",
              "      <td>1906.670995</td>\n",
              "    </tr>\n",
              "    <tr>\n",
              "      <th>2034-12-28</th>\n",
              "      <td>2105.118610</td>\n",
              "    </tr>\n",
              "  </tbody>\n",
              "</table>\n",
              "</div>"
            ],
            "text/plain": [
              "            seasonal_naive+seasonal\n",
              "2020-12-31              1478.126597\n",
              "2021-12-31              1846.742382\n",
              "2022-12-31              2129.755974\n",
              "2023-12-31              2144.873181\n",
              "2024-12-30              1816.821699\n",
              "2025-12-30              1904.504733\n",
              "2026-12-30              1436.325423\n",
              "2027-12-30              1195.161978\n",
              "2028-12-29              1440.204743\n",
              "2029-12-29              1645.479854\n",
              "2030-12-29              1664.352893\n",
              "2031-12-29              1721.900227\n",
              "2032-12-28              1538.665136\n",
              "2033-12-28              1906.670995\n",
              "2034-12-28              2105.118610"
            ]
          },
          "metadata": {
            "tags": []
          },
          "execution_count": 41
        }
      ]
    },
    {
      "cell_type": "markdown",
      "metadata": {
        "id": "UbUJQKY321Va"
      },
      "source": [
        "Steps to generate a forecast:\n",
        "1. Read the data.\n",
        "2. Handling null or missing values.\n",
        "3. Convert the data into a time series data.\n",
        "4. Decompose the time series data\n",
        "5. Check the stationarity\n",
        "6. Forecast"
      ]
    },
    {
      "cell_type": "markdown",
      "metadata": {
        "id": "lXcYyMq81mK7"
      },
      "source": [
        "**Extra**\n",
        "Different Types of Forecast Methods for a Timeseries Data\n",
        "\n",
        "1. A simple moving average (SMA) is the simplest type of technique of forecasting. Basically, a simple moving average is calculated by adding up the last 'n' period's values and then dividing that number by 'n'. So the moving average value is considering as the forecast for next period.\n",
        "\n",
        "2. Exponential smoothing is usually a way of “smoothing” out the data by removing much of the “noise” (random effect) from the data by giving a better forecast. \n",
        "Simple exponential smoothing: If you have a time series that can be described using an additive model with constant level and no seasonality, you can use simple exponential smoothing to make short-term forecast. \n",
        "Holt’s Exponential Smoothing: If you have a time series that can be described using an additive model with increasing or decreasing trend and no seasonality, you can use Holt’s exponential smoothing to make short-term forecasts.\n",
        "\n",
        "3. Autoregressive Integrated Moving Average (ARIMA): A statistical technique that uses time series data to predict future. The parameters used in the ARIMA is (P, d, q) which refers to the autoregressive, integrated and moving average parts of the data set, respectively. ARIMA modeling will take care of trends, seasonality, cycles, errors and non-stationary aspects of a data set when making forecasts. ARIMA checks stationarity availability in the data, the data should also show a constant variance in its fluctuations over time. To get the proper information about the parameter used in ARIMA is based on “identification process” which was purposed by Box-Jenkins."
      ]
    },
    {
      "cell_type": "markdown",
      "metadata": {
        "id": "6Lk95xs84Gm9"
      },
      "source": [
        "**Question 2**"
      ]
    },
    {
      "cell_type": "markdown",
      "metadata": {
        "id": "MCfa3qK94ics"
      },
      "source": [
        "(a) The ACF plot is a bar chart of the coefficients of correlation between a time series and lags of itself. The PACF plot is a plot of the partial correlation coefficients between the series and lags of itself.\n",
        "\n",
        "The hypothesis of ACF is that there is no correlation between a time series and lags of itself. The hypothesis for PACF is that there is no partial correlation coefficients between the series and lags of itself. \n",
        "\n",
        "Relevance: We find optimum features or order of the AR process using the PACF plot, as it removes variations explained by earlier lags so we get only the relevant features. We find optimum features or order of the MA process using the ACF plot, as being an MA process it doesn’t have seasonal and trend components so we get only the residual relationship with the lags of time series in the ACF plot. ACF acting as a partial plot.\n",
        "\n"
      ]
    },
    {
      "cell_type": "markdown",
      "metadata": {
        "id": "yd9HKfrn_iAQ"
      },
      "source": [
        "(b) Percentage change of time series data: Percent of change is a comparison between two values expressed in hundredths. A negative percent of change indicates a decrease from the original value to the second value. A positive percent of change indicates an increase from the original value to the second value.\n"
      ]
    },
    {
      "cell_type": "code",
      "metadata": {
        "id": "4WEJlwvb3oe8",
        "colab": {
          "base_uri": "https://localhost:8080/",
          "height": 235
        },
        "outputId": "9e903609-d338-43ef-e2d0-42fc541f8c83"
      },
      "source": [
        "#percentage change with an interval of one period in the time series data \n",
        "pct_data = raindata_ts.pct_change(periods=1)\n",
        "pct_data.head()"
      ],
      "execution_count": null,
      "outputs": [
        {
          "output_type": "execute_result",
          "data": {
            "text/html": [
              "<div>\n",
              "<style scoped>\n",
              "    .dataframe tbody tr th:only-of-type {\n",
              "        vertical-align: middle;\n",
              "    }\n",
              "\n",
              "    .dataframe tbody tr th {\n",
              "        vertical-align: top;\n",
              "    }\n",
              "\n",
              "    .dataframe thead th {\n",
              "        text-align: right;\n",
              "    }\n",
              "</style>\n",
              "<table border=\"1\" class=\"dataframe\">\n",
              "  <thead>\n",
              "    <tr style=\"text-align: right;\">\n",
              "      <th></th>\n",
              "      <th>rain</th>\n",
              "      <th>WN_rain</th>\n",
              "    </tr>\n",
              "    <tr>\n",
              "      <th>year</th>\n",
              "      <th></th>\n",
              "      <th></th>\n",
              "    </tr>\n",
              "  </thead>\n",
              "  <tbody>\n",
              "    <tr>\n",
              "      <th>1907-01-01</th>\n",
              "      <td>NaN</td>\n",
              "      <td>NaN</td>\n",
              "    </tr>\n",
              "    <tr>\n",
              "      <th>1908-01-01</th>\n",
              "      <td>0.193309</td>\n",
              "      <td>0.062285</td>\n",
              "    </tr>\n",
              "    <tr>\n",
              "      <th>1909-01-01</th>\n",
              "      <td>0.822430</td>\n",
              "      <td>-0.645828</td>\n",
              "    </tr>\n",
              "    <tr>\n",
              "      <th>1910-01-01</th>\n",
              "      <td>0.488889</td>\n",
              "      <td>-0.521989</td>\n",
              "    </tr>\n",
              "    <tr>\n",
              "      <th>1911-01-01</th>\n",
              "      <td>0.693456</td>\n",
              "      <td>5.585429</td>\n",
              "    </tr>\n",
              "  </tbody>\n",
              "</table>\n",
              "</div>"
            ],
            "text/plain": [
              "                rain   WN_rain\n",
              "year                          \n",
              "1907-01-01       NaN       NaN\n",
              "1908-01-01  0.193309  0.062285\n",
              "1909-01-01  0.822430 -0.645828\n",
              "1910-01-01  0.488889 -0.521989\n",
              "1911-01-01  0.693456  5.585429"
            ]
          },
          "metadata": {
            "tags": []
          },
          "execution_count": 76
        }
      ]
    },
    {
      "cell_type": "code",
      "metadata": {
        "id": "ML8iDKJjIAeG",
        "colab": {
          "base_uri": "https://localhost:8080/",
          "height": 235
        },
        "outputId": "ce8d54f0-b9b2-48e9-d1ef-06ec9c021c91"
      },
      "source": [
        "#Remove the null value of the first column\n",
        "pct_data = pct_data.iloc[1:,:]\n",
        "pct_data.head()"
      ],
      "execution_count": null,
      "outputs": [
        {
          "output_type": "execute_result",
          "data": {
            "text/html": [
              "<div>\n",
              "<style scoped>\n",
              "    .dataframe tbody tr th:only-of-type {\n",
              "        vertical-align: middle;\n",
              "    }\n",
              "\n",
              "    .dataframe tbody tr th {\n",
              "        vertical-align: top;\n",
              "    }\n",
              "\n",
              "    .dataframe thead th {\n",
              "        text-align: right;\n",
              "    }\n",
              "</style>\n",
              "<table border=\"1\" class=\"dataframe\">\n",
              "  <thead>\n",
              "    <tr style=\"text-align: right;\">\n",
              "      <th></th>\n",
              "      <th>rain</th>\n",
              "      <th>WN_rain</th>\n",
              "    </tr>\n",
              "    <tr>\n",
              "      <th>year</th>\n",
              "      <th></th>\n",
              "      <th></th>\n",
              "    </tr>\n",
              "  </thead>\n",
              "  <tbody>\n",
              "    <tr>\n",
              "      <th>1908-01-01</th>\n",
              "      <td>0.193309</td>\n",
              "      <td>0.062285</td>\n",
              "    </tr>\n",
              "    <tr>\n",
              "      <th>1909-01-01</th>\n",
              "      <td>0.822430</td>\n",
              "      <td>-0.645828</td>\n",
              "    </tr>\n",
              "    <tr>\n",
              "      <th>1910-01-01</th>\n",
              "      <td>0.488889</td>\n",
              "      <td>-0.521989</td>\n",
              "    </tr>\n",
              "    <tr>\n",
              "      <th>1911-01-01</th>\n",
              "      <td>0.693456</td>\n",
              "      <td>5.585429</td>\n",
              "    </tr>\n",
              "    <tr>\n",
              "      <th>1912-01-01</th>\n",
              "      <td>0.912542</td>\n",
              "      <td>-0.078380</td>\n",
              "    </tr>\n",
              "  </tbody>\n",
              "</table>\n",
              "</div>"
            ],
            "text/plain": [
              "                rain   WN_rain\n",
              "year                          \n",
              "1908-01-01  0.193309  0.062285\n",
              "1909-01-01  0.822430 -0.645828\n",
              "1910-01-01  0.488889 -0.521989\n",
              "1911-01-01  0.693456  5.585429\n",
              "1912-01-01  0.912542 -0.078380"
            ]
          },
          "metadata": {
            "tags": []
          },
          "execution_count": 77
        }
      ]
    },
    {
      "cell_type": "markdown",
      "metadata": {
        "id": "xlfhh87GBg7-"
      },
      "source": [
        "Normalized data: White noise series has a mean 0 and constant variance. Also, it has zero autocovariance and autocorrelation."
      ]
    },
    {
      "cell_type": "code",
      "metadata": {
        "id": "lJoeixZfAc8R"
      },
      "source": [
        "from matplotlib.pyplot import figure\n",
        "import statsmodels.graphics.tsaplots as sgt\n",
        "import statsmodels.tsa.stattools as sts\n",
        "import statsmodels.api as sm\n",
        "from statsmodels.tsa.seasonal import seasonal_decompose"
      ],
      "execution_count": null,
      "outputs": []
    },
    {
      "cell_type": "code",
      "metadata": {
        "id": "nKsKt8zQAxFs"
      },
      "source": [
        "#Remove white noise series from each variable \n",
        "#We create white noise of variable by considering the mean (central tendency) and S.D. (how much each data point deviates from centre)\n",
        "white_noise = np.random.normal(loc = raindata_ts.rain.mean(), scale = raindata_ts.rain.std(), size = len(raindata_ts))\n",
        "raindata_ts['WN_rain'] = white_noise"
      ],
      "execution_count": null,
      "outputs": []
    },
    {
      "cell_type": "code",
      "metadata": {
        "id": "QITb_qdKA62T",
        "colab": {
          "base_uri": "https://localhost:8080/",
          "height": 235
        },
        "outputId": "f73a7100-ac8f-4f76-9377-cce2cd45f4d3"
      },
      "source": [
        "raindata_ts.head()"
      ],
      "execution_count": null,
      "outputs": [
        {
          "output_type": "execute_result",
          "data": {
            "text/html": [
              "<div>\n",
              "<style scoped>\n",
              "    .dataframe tbody tr th:only-of-type {\n",
              "        vertical-align: middle;\n",
              "    }\n",
              "\n",
              "    .dataframe tbody tr th {\n",
              "        vertical-align: top;\n",
              "    }\n",
              "\n",
              "    .dataframe thead th {\n",
              "        text-align: right;\n",
              "    }\n",
              "</style>\n",
              "<table border=\"1\" class=\"dataframe\">\n",
              "  <thead>\n",
              "    <tr style=\"text-align: right;\">\n",
              "      <th></th>\n",
              "      <th>rain</th>\n",
              "      <th>WN_rain</th>\n",
              "    </tr>\n",
              "    <tr>\n",
              "      <th>year</th>\n",
              "      <th></th>\n",
              "      <th></th>\n",
              "    </tr>\n",
              "  </thead>\n",
              "  <tbody>\n",
              "    <tr>\n",
              "      <th>1907-01-01</th>\n",
              "      <td>269</td>\n",
              "      <td>3282.818674</td>\n",
              "    </tr>\n",
              "    <tr>\n",
              "      <th>1908-01-01</th>\n",
              "      <td>321</td>\n",
              "      <td>3487.290060</td>\n",
              "    </tr>\n",
              "    <tr>\n",
              "      <th>1909-01-01</th>\n",
              "      <td>585</td>\n",
              "      <td>1235.101317</td>\n",
              "    </tr>\n",
              "    <tr>\n",
              "      <th>1910-01-01</th>\n",
              "      <td>871</td>\n",
              "      <td>590.391443</td>\n",
              "    </tr>\n",
              "    <tr>\n",
              "      <th>1911-01-01</th>\n",
              "      <td>1475</td>\n",
              "      <td>3887.981168</td>\n",
              "    </tr>\n",
              "  </tbody>\n",
              "</table>\n",
              "</div>"
            ],
            "text/plain": [
              "            rain      WN_rain\n",
              "year                         \n",
              "1907-01-01   269  3282.818674\n",
              "1908-01-01   321  3487.290060\n",
              "1909-01-01   585  1235.101317\n",
              "1910-01-01   871   590.391443\n",
              "1911-01-01  1475  3887.981168"
            ]
          },
          "metadata": {
            "tags": []
          },
          "execution_count": 52
        }
      ]
    },
    {
      "cell_type": "markdown",
      "metadata": {
        "id": "ond0GVURCPQ2"
      },
      "source": [
        "(c) ACF and PACF plots"
      ]
    },
    {
      "cell_type": "markdown",
      "metadata": {
        "id": "KsKE5SbhHUL0"
      },
      "source": [
        "ACF plots"
      ]
    },
    {
      "cell_type": "code",
      "metadata": {
        "id": "a26G1wkvBl0_",
        "colab": {
          "base_uri": "https://localhost:8080/",
          "height": 281
        },
        "outputId": "b6ac621d-02ce-4104-e819-623307022ba8"
      },
      "source": [
        "from statsmodels.graphics.tsaplots import plot_acf\n",
        "plot_acf(raindata_ts['rain'])\n",
        "plt.title('ACF for orginal data')\n",
        "plt.show()"
      ],
      "execution_count": null,
      "outputs": [
        {
          "output_type": "display_data",
          "data": {
            "image/png": "[encoded data removed]",
            "text/plain": [
              "<Figure size 432x288 with 1 Axes>"
            ]
          },
          "metadata": {
            "tags": [],
            "needs_background": "light"
          }
        }
      ]
    },
    {
      "cell_type": "code",
      "metadata": {
        "id": "DHwt0evQCRsy",
        "colab": {
          "base_uri": "https://localhost:8080/",
          "height": 281
        },
        "outputId": "997ee1f3-e6d4-4944-96c6-2c33f79a113a"
      },
      "source": [
        "plot_acf(raindata_ts['WN_rain'])\n",
        "plt.title('ACF for normalized data')\n",
        "plt.show()"
      ],
      "execution_count": null,
      "outputs": [
        {
          "output_type": "display_data",
          "data": {
            "image/png": "[encoded data removed]",
            "text/plain": [
              "<Figure size 432x288 with 1 Axes>"
            ]
          },
          "metadata": {
            "tags": [],
            "needs_background": "light"
          }
        }
      ]
    },
    {
      "cell_type": "code",
      "metadata": {
        "id": "_9db-ffOCfDe",
        "colab": {
          "base_uri": "https://localhost:8080/",
          "height": 281
        },
        "outputId": "42ea75bc-33af-4b88-b552-70b601502c4f"
      },
      "source": [
        "plot_acf(pct_data['rain'])\n",
        "plt.title('ACF for percentage change data')\n",
        "plt.show()"
      ],
      "execution_count": null,
      "outputs": [
        {
          "output_type": "display_data",
          "data": {
            "image/png": "[encoded data removed]",
            "text/plain": [
              "<Figure size 432x288 with 1 Axes>"
            ]
          },
          "metadata": {
            "tags": [],
            "needs_background": "light"
          }
        }
      ]
    },
    {
      "cell_type": "markdown",
      "metadata": {
        "id": "LiY7erIKD5R5"
      },
      "source": [
        "The ACF plot for white noise/normalized data suggests that it is a zero order MA process. The ACF plot for percentage change data is order 10 MA. However, the ACF plot for orginal data suggests that MA of order 10 is the highest order that is signficant."
      ]
    },
    {
      "cell_type": "markdown",
      "metadata": {
        "id": "PNK81Q4EEOW4"
      },
      "source": [
        "Plot PACF"
      ]
    },
    {
      "cell_type": "code",
      "metadata": {
        "id": "FngPThhQETjh",
        "colab": {
          "base_uri": "https://localhost:8080/",
          "height": 281
        },
        "outputId": "64fb5e99-37ec-4869-a022-5a06a3b0dc82"
      },
      "source": [
        "#for original data\n",
        "from statsmodels.graphics.tsaplots import plot_pacf\n",
        "plot_pacf(raindata_ts['rain'])\n",
        "plt.show()"
      ],
      "execution_count": null,
      "outputs": [
        {
          "output_type": "display_data",
          "data": {
            "image/png": "[encoded data removed]",
            "text/plain": [
              "<Figure size 432x288 with 1 Axes>"
            ]
          },
          "metadata": {
            "tags": [],
            "needs_background": "light"
          }
        }
      ]
    },
    {
      "cell_type": "code",
      "metadata": {
        "id": "KsAGtvdqEmQV",
        "colab": {
          "base_uri": "https://localhost:8080/",
          "height": 281
        },
        "outputId": "fab6f3b1-def6-40f7-a381-4ed008d09dd7"
      },
      "source": [
        "#for normalized data\n",
        "plot_pacf(raindata_ts['WN_rain'])\n",
        "plt.show()"
      ],
      "execution_count": null,
      "outputs": [
        {
          "output_type": "display_data",
          "data": {
            "image/png": "[encoded data removed]",
            "text/plain": [
              "<Figure size 432x288 with 1 Axes>"
            ]
          },
          "metadata": {
            "tags": [],
            "needs_background": "light"
          }
        }
      ]
    },
    {
      "cell_type": "code",
      "metadata": {
        "id": "YutC152OEqtn",
        "colab": {
          "base_uri": "https://localhost:8080/",
          "height": 281
        },
        "outputId": "c6df0c90-4226-4978-88d6-f0042c84f7bc"
      },
      "source": [
        "#for percentage change data\n",
        "plot_pacf(pct_data['rain'])\n",
        "plt.show()"
      ],
      "execution_count": null,
      "outputs": [
        {
          "output_type": "display_data",
          "data": {
            "image/png": "[encoded data removed]",
            "text/plain": [
              "<Figure size 432x288 with 1 Axes>"
            ]
          },
          "metadata": {
            "tags": [],
            "needs_background": "light"
          }
        }
      ]
    },
    {
      "cell_type": "markdown",
      "metadata": {
        "id": "SqG7Ww2NEyt_"
      },
      "source": [
        "From PACF plots, we conclude that the AR was found to be of 0 order for normalized data and percentage change data. The AR of order 15 was found to be signficant for the original and the percentage change dataset. "
      ]
    },
    {
      "cell_type": "markdown",
      "metadata": {
        "id": "flYQhL7cFSpQ"
      },
      "source": [
        "(d) ADF testf or stationarity.\n",
        "Null Hypothesis: Not stationary (unit root)\n",
        "Alternate Hypothesis : Stationary"
      ]
    },
    {
      "cell_type": "code",
      "metadata": {
        "id": "jlgOjuCqFYRx",
        "colab": {
          "base_uri": "https://localhost:8080/",
          "height": 153
        },
        "outputId": "2f8c9e3e-bf78-49de-bb23-7d91b616ed6f"
      },
      "source": [
        "#for original data\n",
        "sts.adfuller(raindata_ts.rain)"
      ],
      "execution_count": null,
      "outputs": [
        {
          "output_type": "execute_result",
          "data": {
            "text/plain": [
              "(-2.996303675142558,\n",
              " 0.03524103535901374,\n",
              " 7,\n",
              " 106,\n",
              " {'1%': -3.4936021509366793,\n",
              "  '10%': -2.58153320754717,\n",
              "  '5%': -2.8892174239808703},\n",
              " 1635.975223662428)"
            ]
          },
          "metadata": {
            "tags": []
          },
          "execution_count": 67
        }
      ]
    },
    {
      "cell_type": "code",
      "metadata": {
        "id": "d6MvNJ1eFfJ0",
        "colab": {
          "base_uri": "https://localhost:8080/",
          "height": 153
        },
        "outputId": "1b5f8ff7-0971-48bc-a2f6-8581bdc119fe"
      },
      "source": [
        "#for normalized data\n",
        "sts.adfuller(raindata_ts.WN_rain)"
      ],
      "execution_count": null,
      "outputs": [
        {
          "output_type": "execute_result",
          "data": {
            "text/plain": [
              "(-7.611339229195942,\n",
              " 2.2509134549835867e-11,\n",
              " 1,\n",
              " 112,\n",
              " {'1%': -3.4901313156261384,\n",
              "  '10%': -2.5807296460459184,\n",
              "  '5%': -2.8877122815688776},\n",
              " 1774.082488357951)"
            ]
          },
          "metadata": {
            "tags": []
          },
          "execution_count": 72
        }
      ]
    },
    {
      "cell_type": "code",
      "metadata": {
        "id": "93j7RUoiIPqJ",
        "colab": {
          "base_uri": "https://localhost:8080/",
          "height": 153
        },
        "outputId": "1459c9a4-599a-49a7-8a59-93817c756975"
      },
      "source": [
        "#for percent change data\n",
        "sts.adfuller(pct_data.rain)"
      ],
      "execution_count": null,
      "outputs": [
        {
          "output_type": "execute_result",
          "data": {
            "text/plain": [
              "(-8.032506526506944,\n",
              " 1.9413286947885083e-12,\n",
              " 5,\n",
              " 107,\n",
              " {'1%': -3.492995948509562,\n",
              "  '10%': -2.58139291903223,\n",
              "  '5%': -2.888954648057252},\n",
              " 211.46041537868268)"
            ]
          },
          "metadata": {
            "tags": []
          },
          "execution_count": 79
        }
      ]
    },
    {
      "cell_type": "markdown",
      "metadata": {
        "id": "OMlAgzxPGDiF"
      },
      "source": [
        "The second value is probability which if greater than 0.05 we reject null hypothesis. If the Z-statistic (first value) is greater than absolute values (1%, 10%, 5%). The last value is AIC. After probability we have lag (1) and degree of freedom (no. of obs - no.parameters = 361-2 = 359)"
      ]
    },
    {
      "cell_type": "markdown",
      "metadata": {
        "id": "nZJX0oC9GI94"
      },
      "source": [
        "Since the probability values are greater than 0.05 for the normalized data and the percent change data therefore it could be suggested that both the series are of stationary nature. However, the probability value is less than 0.05 for the original data and therefore it could be suggested that the original time series is non-stationary in nature."
      ]
    }
  ]
}